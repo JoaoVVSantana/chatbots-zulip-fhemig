{
 "cells": [
  {
   "cell_type": "markdown",
   "metadata": {},
   "source": [
    "# Caderno para construção e teste do BOT"
   ]
  },
  {
   "cell_type": "markdown",
   "metadata": {},
   "source": [
    "## Loading"
   ]
  },
  {
   "cell_type": "code",
   "execution_count": 8,
   "metadata": {},
   "outputs": [
    {
     "name": "stderr",
     "output_type": "stream",
     "text": [
      "<>:5: SyntaxWarning: invalid escape sequence '\\D'\n",
      "<>:5: SyntaxWarning: invalid escape sequence '\\D'\n",
      "C:\\Users\\FHEMIG\\AppData\\Local\\Temp\\ipykernel_10884\\773998900.py:5: SyntaxWarning: invalid escape sequence '\\D'\n",
      "  path = \"C:\\\\Users\\\\FHEMIG\\Desktop\\\\Pedro (1)\\\\Projetos\\Zulip Bots\\\\chatbots-zulip\\\\data\\\\manual_impacto.pdf\"\n"
     ]
    }
   ],
   "source": [
    "## Loader do PDF\n",
    "from langchain_community.document_loaders import PyMuPDFLoader\n",
    "from langchain_community.document_loaders import UnstructuredPDFLoader\n",
    "\n",
    "path = \"C:\\\\Users\\\\FHEMIG\\Desktop\\\\Pedro (1)\\\\Projetos\\Zulip Bots\\\\chatbots-zulip\\\\data\\\\manual_impacto.pdf\"\n",
    "\n",
    "## Loaders structured and unstructured\n",
    "\n",
    "#loader_un = UnstructuredPDFLoader(path)\n",
    "loader_structured = PyMuPDFLoader(path)\n",
    "\n",
    "pages_str = loader_structured.load()\n",
    "#pages_str = loader_un.load()"
   ]
  },
  {
   "cell_type": "markdown",
   "metadata": {},
   "source": [
    "## Cleaning"
   ]
  },
  {
   "cell_type": "code",
   "execution_count": 9,
   "metadata": {},
   "outputs": [],
   "source": [
    "from langchain.text_splitter import CharacterTextSplitter\n",
    "\n",
    "## Criando texto splitter\n",
    "text_splitter = CharacterTextSplitter(\n",
    "    separator=\"\\n\",\n",
    "    chunk_size=1000,\n",
    "    chunk_overlap=0\n",
    "    )\n",
    "\n",
    "## Split\n",
    "texts = text_splitter.split_documents(pages_str)\n",
    "\n",
    "\n"
   ]
  },
  {
   "cell_type": "code",
   "execution_count": 11,
   "metadata": {},
   "outputs": [
    {
     "data": {
      "text/plain": [
       "'construído. Nele o usuário SUS é o foco, e o cuidado \\nhumanizado, eficiente e de qualidade são a chave para o \\nsucesso.  \\nPara nos ajudar nessa construção Robert Kaplan e David \\nNorton desenvolveram uma ferramenta de gestão chamada \\n“Balanced Scorecard (BSC)”. O BSC ajuda a traduzir a visão e a \\nestratégia da organização em objetivos claros e mensuráveis, \\norganizados em quatro perspectivas: Clientes, que para nós é a \\nSociedade, \\nAprendizado \\ne \\nCrescimento, \\nProcessos \\ne \\nFinanceiro: \\nClique aqui para \\nacessar nosso curso \\nsobre Planejamento \\nEstratégico, na \\nplataforma EAD da \\nFhemig.'"
      ]
     },
     "execution_count": 11,
     "metadata": {},
     "output_type": "execute_result"
    }
   ],
   "source": [
    "### Testanto\n",
    "\n",
    "texts[10].page_content"
   ]
  },
  {
   "cell_type": "code",
   "execution_count": 12,
   "metadata": {},
   "outputs": [],
   "source": [
    "## Função para remover espaço em branco\n",
    "\n",
    "def remove_ws(d):\n",
    "    text = d.page_content.replace(\"\\n\", \"\")\n",
    "    d.page_content = text\n",
    "    return d\n",
    "\n",
    "# Clean texts by removing whitespace from each document\n",
    "texts_cleaned = [remove_ws(d) for d in texts]"
   ]
  },
  {
   "cell_type": "code",
   "execution_count": 13,
   "metadata": {},
   "outputs": [
    {
     "data": {
      "text/plain": [
       "'construído. Nele o usuário SUS é o foco, e o cuidado humanizado, eficiente e de qualidade são a chave para o sucesso.  Para nos ajudar nessa construção Robert Kaplan e David Norton desenvolveram uma ferramenta de gestão chamada “Balanced Scorecard (BSC)”. O BSC ajuda a traduzir a visão e a estratégia da organização em objetivos claros e mensuráveis, organizados em quatro perspectivas: Clientes, que para nós é a Sociedade, Aprendizado e Crescimento, Processos e Financeiro: Clique aqui para acessar nosso curso sobre Planejamento Estratégico, na plataforma EAD da Fhemig.'"
      ]
     },
     "execution_count": 13,
     "metadata": {},
     "output_type": "execute_result"
    }
   ],
   "source": [
    "texts_cleaned[10].page_content\n",
    "\n"
   ]
  },
  {
   "cell_type": "code",
   "execution_count": 17,
   "metadata": {},
   "outputs": [],
   "source": [
    "## openai\n",
    "\n",
    "# config.py\n",
    "import os\n",
    "from dotenv import load_dotenv\n",
    "\n",
    "# Carregar as variáveis de ambiente do arquivo .env\n",
    "load_dotenv(dotenv_path=\"C:\\\\Users\\\\FHEMIG\\\\Desktop\\\\Pedro (1)\\\\Projetos\\\\Zulip Bots\\\\chatbots-zulip\\\\env\\\\.env\")\n",
    "\n",
    "# Acessar a chave da OpenAI\n",
    "OPENAI_API_KEY = os.getenv(\"OPENAI_API_KEY\")"
   ]
  },
  {
   "cell_type": "markdown",
   "metadata": {},
   "source": [
    "## Retriever"
   ]
  },
  {
   "cell_type": "code",
   "execution_count": 18,
   "metadata": {},
   "outputs": [],
   "source": [
    "## retriever openai\n",
    "\n",
    "from langchain.embeddings.openai import OpenAIEmbeddings\n",
    "from langchain.vectorstores import FAISS\n",
    "\n",
    "\n",
    "# uses OpenAI embeddings to build a retriever\n",
    "embeddings = OpenAIEmbeddings(api_key=OPENAI_API_KEY)\n",
    "# Creates the document retriever using docs and embeddings\n",
    "db = FAISS.from_documents(texts_cleaned, embeddings)\n",
    "\n",
    "\n",
    "\n",
    "# Asking the retriever to do similarity search based on Query\n",
    "#query = \"Foreign Aid for Lowari Road Tunnel & Access Roads Project (2nd Revised )\"\n",
    "#answer = db.similarity_search(query)\n",
    "\n",
    "# Building the retriever\n",
    "retriever = db.as_retriever(search_kwargs={'k': 3})\n"
   ]
  },
  {
   "cell_type": "code",
   "execution_count": null,
   "metadata": {},
   "outputs": [],
   "source": [
    "## Carregando retriever\n",
    "\n",
    "import joblib\n",
    "\n",
    "# Carregar o retriever salvo\n",
    "retriever = joblib.load('data\\\\retriever.joblib')\n"
   ]
  },
  {
   "cell_type": "markdown",
   "metadata": {},
   "source": [
    "## Chain and chats"
   ]
  },
  {
   "cell_type": "code",
   "execution_count": 33,
   "metadata": {},
   "outputs": [],
   "source": [
    "from langchain_ollama import ChatOllama\n",
    "from langchain_core.output_parsers import StrOutputParser\n",
    "from langchain_core.prompts import ChatPromptTemplate\n",
    "from langchain_core.runnables import RunnablePassthrough\n",
    "\n",
    "# Função que o bot usará para responder a mensagens diretas\n",
    "\n",
    "template = \"\"\"\n",
    "Você é **Fabius**, um assistente especializado no Planejamento Estratégico da Fhemig, no Pacto de Gestão Participativa e no sistema InPacto.\n",
    "\n",
    "### Instruções:\n",
    "\n",
    "1. Responda de forma objetiva e clara, utilizando as informações disponíveis nos documentos e manuais.\n",
    "2. Forneça explicações rápidas, sem complicações, e apresente apenas os passos essenciais para a resolução de problemas.\n",
    "3. Caso necessário, inclua links ou referências a seções específicas dos documentos para mais detalhes.\n",
    "4. Evite respostas longas. Concentre-se na simplicidade e na eficiência.\n",
    "\n",
    "### Estrutura de Resposta:\n",
    "1. **Resumo Rápido**: Explique em uma ou duas frases a solução para a pergunta.\n",
    "2. **Passos Essenciais** (se aplicável): Liste apenas os passos mínimos necessários para resolver o problema.\n",
    "3. **Referência ao Manual** (opcional): Inclua uma referência ao manual ou documento, se necessário.\n",
    "\n",
    "### Exemplos de Perguntas e Respostas:\n",
    "\n",
    "Exemplo 1:\n",
    "**Pergunta**: Como faço para cadastrar um novo indicador no sistema InPacto?\n",
    "**Resposta**:\n",
    "1. **Resumo Rápido**: Acesse o menu \"Indicadores\", clique em \"Cadastrar Novo Indicador\" e preencha os campos obrigatórios.\n",
    "2. **Passos Essenciais**: \n",
    "   - Acesse o InPacto.\n",
    "   - Vá até \"Indicadores\" e selecione \"Cadastrar Novo Indicador\".\n",
    "   - Preencha os campos e clique em \"Salvar\".\n",
    "3. **Referência ao Manual**: Consulte o manual do InPacto, página 34.\n",
    "\n",
    "Exemplo 2:\n",
    "**Pergunta**: O que é o Pacto de Gestão Participativa na Fhemig?\n",
    "**Resposta**:\n",
    "1. **Resumo Rápido**: O Pacto de Gestão Participativa (PGP) monitora metas e indicadores para alcançar os objetivos estratégicos da Fhemig.\n",
    "2. **Passos Essenciais**: \n",
    "   - A primeira fase é entre a liderança e diretores.\n",
    "   - A segunda fase envolve diretores e gerentes/setores.\n",
    "3. **Referência ao Manual**: Ver manual do PGP, página 7.\n",
    "\n",
    "A sua base de conhecimento, a que você deve se ater é:{context}\n",
    "\n",
    "A pergunta do usuário é: {query}\n",
    "\n",
    "\"\"\"\n",
    "\n",
    "\n",
    "\n",
    "# Converter o template em prompt_template\n",
    "\n",
    "prompt = ChatPromptTemplate.from_template(template)\n",
    "\n",
    "\n",
    "## Configurar llm com Ollama\n",
    "\n",
    "llm = ChatOllama(model=\"llama3.2:1b\")\n",
    "\n",
    "## Configurar chain\n",
    "\n",
    "chain = chain = (\n",
    "# The initial dictionary uses the retriever and user supplied query\n",
    "    {\"context\":retriever,\n",
    "     \"query\":RunnablePassthrough()}\n",
    "# Feeds that context and query into the prompt then model & lastly \n",
    "# uses the ouput parser, do query for the data.\n",
    "    |  prompt  | llm | StrOutputParser()\n",
    ")\n",
    "\n"
   ]
  },
  {
   "cell_type": "markdown",
   "metadata": {},
   "source": [
    "## Testando!"
   ]
  },
  {
   "cell_type": "code",
   "execution_count": 35,
   "metadata": {},
   "outputs": [
    {
     "name": "stdout",
     "output_type": "stream",
     "text": [
      "**Resposta:**\n",
      "\n",
      "Um indicador pode ser excluído na folha de trabalho \"Indicadores\". Para fazer isso, vá até o menu \"Indicadores\" e clique em \"Excluir Indicador\".\n",
      "\n",
      "\n",
      "\n",
      "**Passos Essenciais:**\n",
      "\n",
      "\n",
      "\n",
      "1. Acesse a folha de trabalho \"Indicadores\".\n",
      "\n",
      "2. Selecione o indicador que deseja excluir.\n",
      "\n",
      "3. Clique no ícone de exclusão.\n",
      "\n",
      "\n",
      "\n",
      "A partir daqui, você também pode editar ou excluir um indicador cadastrado de forma errada.\n",
      "\n",
      "\n",
      "\n",
      "**Referência ao Manual:** Consulte o manual do InPacto, página 38.\n"
     ]
    }
   ],
   "source": [
    "input = \"Como excluir um indicador?\"\n",
    "\n",
    "\n",
    "response = chain.invoke(input)\n",
    "formatted_response = response.replace(\"\\n\", \"\\n\\n\")  # Adiciona uma linha em branco após cada nova linha\n",
    "\n",
    "print(formatted_response)"
   ]
  }
 ],
 "metadata": {
  "kernelspec": {
   "display_name": "venv_chatbots",
   "language": "python",
   "name": "python3"
  },
  "language_info": {
   "codemirror_mode": {
    "name": "ipython",
    "version": 3
   },
   "file_extension": ".py",
   "mimetype": "text/x-python",
   "name": "python",
   "nbconvert_exporter": "python",
   "pygments_lexer": "ipython3",
   "version": "3.12.6"
  }
 },
 "nbformat": 4,
 "nbformat_minor": 2
}
