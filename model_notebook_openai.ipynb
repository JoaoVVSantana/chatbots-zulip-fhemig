{
 "cells": [
  {
   "cell_type": "markdown",
   "metadata": {},
   "source": [
    "# Caderno para construção e teste do BOT"
   ]
  },
  {
   "cell_type": "markdown",
   "metadata": {},
   "source": [
    "## Loading"
   ]
  },
  {
   "cell_type": "code",
   "execution_count": 76,
   "metadata": {},
   "outputs": [],
   "source": [
    "## Loader do PDF\n",
    "from langchain_community.document_loaders import PyMuPDFLoader\n",
    "from langchain_community.document_loaders import UnstructuredPDFLoader\n",
    "\n",
    "path = \"data\\\\base_conhecimento.pdf\"\n",
    "\n",
    "## Loaders structured and unstructured\n",
    "\n",
    "#loader_un = UnstructuredPDFLoader(path)\n",
    "loader_structured = PyMuPDFLoader(path)\n",
    "\n",
    "pages_str = loader_structured.load()\n",
    "#pages_str = loader_un.load()"
   ]
  },
  {
   "cell_type": "markdown",
   "metadata": {},
   "source": [
    "## Cleaning"
   ]
  },
  {
   "cell_type": "code",
   "execution_count": 77,
   "metadata": {},
   "outputs": [],
   "source": [
    "from langchain.text_splitter import CharacterTextSplitter\n",
    "\n",
    "## Criando texto splitter\n",
    "text_splitter = CharacterTextSplitter(\n",
    "    separator=\"\\n\",\n",
    "    chunk_size=1000,\n",
    "    chunk_overlap=0\n",
    "    )\n",
    "\n",
    "## Split\n",
    "texts = text_splitter.split_documents(pages_str)\n",
    "\n",
    "\n"
   ]
  },
  {
   "cell_type": "code",
   "execution_count": 78,
   "metadata": {},
   "outputs": [
    {
     "data": {
      "text/plain": [
       "'### 5.1 Acessando a Escala\\n1. Selecione a escala onde deseja adicionar profissionais adicionais.\\n2. Clique com o botão direito e escolha **Adicionar Pessoas Adicionais**.\\n### 5.2 Buscando e Adicionando\\n1. Busque pelo nome do profissional que deseja adicionar.\\n2. Selecione e adicione à escala.\\n## Conclusão\\nEste guia detalha o processo de adição de profissionais nas escalas do Tasy, incluindo a\\nconfiguração de plantões e a geração de escalas. Seguindo os passos descritos, você poderá\\notimizar a alocação de profissionais em diferentes horários e tipos de plantão.\\n## Metadados\\n**Tags**: Sistema Tasy, Escalas, Plantões, Gestão Hospitalar, Adição de Profissionais, Geração de\\nEscala, Plantão Noturno, Plantão de Urgência.'"
      ]
     },
     "execution_count": 78,
     "metadata": {},
     "output_type": "execute_result"
    }
   ],
   "source": [
    "### Testanto\n",
    "\n",
    "texts[500].page_content"
   ]
  },
  {
   "cell_type": "code",
   "execution_count": 79,
   "metadata": {},
   "outputs": [],
   "source": [
    "## Função para remover espaço em branco\n",
    "\n",
    "def remove_ws(d):\n",
    "    text = d.page_content.replace(\"\\n\", \" \")\n",
    "    d.page_content = text\n",
    "    return d\n",
    "\n",
    "# Clean texts by removing whitespace from each document\n",
    "texts_cleaned = [remove_ws(d) for d in texts]"
   ]
  },
  {
   "cell_type": "code",
   "execution_count": 80,
   "metadata": {},
   "outputs": [
    {
     "data": {
      "text/plain": [
       "'### 5.1 Acessando a Escala 1. Selecione a escala onde deseja adicionar profissionais adicionais. 2. Clique com o botão direito e escolha **Adicionar Pessoas Adicionais**. ### 5.2 Buscando e Adicionando 1. Busque pelo nome do profissional que deseja adicionar. 2. Selecione e adicione à escala. ## Conclusão Este guia detalha o processo de adição de profissionais nas escalas do Tasy, incluindo a configuração de plantões e a geração de escalas. Seguindo os passos descritos, você poderá otimizar a alocação de profissionais em diferentes horários e tipos de plantão. ## Metadados **Tags**: Sistema Tasy, Escalas, Plantões, Gestão Hospitalar, Adição de Profissionais, Geração de Escala, Plantão Noturno, Plantão de Urgência.'"
      ]
     },
     "execution_count": 80,
     "metadata": {},
     "output_type": "execute_result"
    }
   ],
   "source": [
    "texts_cleaned[500].page_content\n",
    "\n"
   ]
  },
  {
   "cell_type": "code",
   "execution_count": 81,
   "metadata": {},
   "outputs": [],
   "source": [
    "## openai\n",
    "\n",
    "# config.py\n",
    "import os\n",
    "from dotenv import load_dotenv\n",
    "\n",
    "# Carregar as variáveis de ambiente do arquivo .env\n",
    "load_dotenv(dotenv_path=\"env/.env\")\n",
    "\n",
    "# Acessar a chave da OpenAI\n",
    "OPENAI_API_KEY = os.getenv(\"OPENAI_API_KEY\")"
   ]
  },
  {
   "cell_type": "markdown",
   "metadata": {},
   "source": [
    "## Retriever"
   ]
  },
  {
   "cell_type": "code",
   "execution_count": 82,
   "metadata": {},
   "outputs": [],
   "source": [
    "## retriever openai\n",
    "\n",
    "from langchain.embeddings.openai import OpenAIEmbeddings\n",
    "from langchain.vectorstores import FAISS\n",
    "\n",
    "\n",
    "# uses OpenAI embeddings to build a retriever\n",
    "embeddings = OpenAIEmbeddings(api_key=OPENAI_API_KEY)\n",
    "# Creates the document retriever using docs and embeddings\n",
    "db = FAISS.from_documents(texts_cleaned, embeddings)\n",
    "\n",
    "\n",
    "\n",
    "# Asking the retriever to do similarity search based on Query\n",
    "#query = \"Foreign Aid for Lowari Road Tunnel & Access Roads Project (2nd Revised )\"\n",
    "#answer = db.similarity_search(query)\n",
    "\n",
    "# Building the retriever\n",
    "retriever = db.as_retriever(search_kwargs={'k': 3})\n"
   ]
  },
  {
   "cell_type": "code",
   "execution_count": 83,
   "metadata": {},
   "outputs": [],
   "source": [
    "import faiss\n",
    "import pickle\n",
    "\n",
    "# Salvar o índice FAISS\n",
    "faiss.write_index(db.index, 'data/faiss_index.index')\n",
    "\n",
    "# Salvar os documentos associados (metadados)\n",
    "with open('data/faiss_docs.pkl', 'wb') as f:\n",
    "    pickle.dump(db.docstore._dict, f)\n",
    "\n"
   ]
  },
  {
   "cell_type": "code",
   "execution_count": 84,
   "metadata": {},
   "outputs": [
    {
     "ename": "TypeError",
     "evalue": "FAISS.__init__() missing 1 required positional argument: 'index_to_docstore_id'",
     "output_type": "error",
     "traceback": [
      "\u001b[1;31m---------------------------------------------------------------------------\u001b[0m",
      "\u001b[1;31mTypeError\u001b[0m                                 Traceback (most recent call last)",
      "Cell \u001b[1;32mIn[84], line 17\u001b[0m\n\u001b[0;32m     14\u001b[0m embeddings \u001b[38;5;241m=\u001b[39m OpenAIEmbeddings(api_key\u001b[38;5;241m=\u001b[39mOPENAI_API_KEY)\n\u001b[0;32m     16\u001b[0m \u001b[38;5;66;03m# Recriar o FAISS VectorStore usando o índice e os documentos\u001b[39;00m\n\u001b[1;32m---> 17\u001b[0m db \u001b[38;5;241m=\u001b[39m \u001b[43mFAISS\u001b[49m\u001b[43m(\u001b[49m\u001b[43membedding_function\u001b[49m\u001b[38;5;241;43m=\u001b[39;49m\u001b[43membeddings\u001b[49m\u001b[43m,\u001b[49m\u001b[43m \u001b[49m\u001b[43mindex\u001b[49m\u001b[38;5;241;43m=\u001b[39;49m\u001b[43mindex\u001b[49m\u001b[43m,\u001b[49m\u001b[43m \u001b[49m\u001b[43mdocstore\u001b[49m\u001b[38;5;241;43m=\u001b[39;49m\u001b[43mdocstore\u001b[49m\u001b[43m)\u001b[49m\n\u001b[0;32m     19\u001b[0m \u001b[38;5;66;03m# Recriar o retriever\u001b[39;00m\n\u001b[0;32m     20\u001b[0m retriever \u001b[38;5;241m=\u001b[39m db\u001b[38;5;241m.\u001b[39mas_retriever(search_kwargs\u001b[38;5;241m=\u001b[39m{\u001b[38;5;124m'\u001b[39m\u001b[38;5;124mk\u001b[39m\u001b[38;5;124m'\u001b[39m: \u001b[38;5;241m3\u001b[39m})\n",
      "\u001b[1;31mTypeError\u001b[0m: FAISS.__init__() missing 1 required positional argument: 'index_to_docstore_id'"
     ]
    }
   ],
   "source": [
    "import faiss\n",
    "import pickle\n",
    "from langchain.vectorstores import FAISS\n",
    "from langchain.embeddings.openai import OpenAIEmbeddings\n",
    "\n",
    "# Carregar o índice FAISS\n",
    "index = faiss.read_index('data/faiss_index.index')\n",
    "\n",
    "# Carregar os documentos (metadados)\n",
    "with open('data/faiss_docs.pkl', 'rb') as f:\n",
    "    docstore = pickle.load(f)\n",
    "\n",
    "# Recriar o OpenAIEmbeddings\n",
    "embeddings = OpenAIEmbeddings(api_key=OPENAI_API_KEY)\n",
    "\n",
    "# Recriar o FAISS VectorStore usando o índice e os documentos\n",
    "db = FAISS(embedding_function=embeddings, index=index, docstore=docstore)\n",
    "\n",
    "# Recriar o retriever\n",
    "retriever = db.as_retriever(search_kwargs={'k': 3})\n",
    "\n"
   ]
  },
  {
   "cell_type": "markdown",
   "metadata": {},
   "source": [
    "## Chain and chats"
   ]
  },
  {
   "cell_type": "code",
   "execution_count": 97,
   "metadata": {},
   "outputs": [],
   "source": [
    "from langchain_openai import ChatOpenAI\n",
    "from langchain_core.output_parsers import StrOutputParser\n",
    "from langchain_core.prompts import ChatPromptTemplate\n",
    "from langchain_core.runnables import RunnablePassthrough\n",
    "\n",
    "# Função que o bot usará para responder a mensagens diretas\n",
    "\n",
    "template = \"\"\"\n",
    "\n",
    "Você é Baby, assistente virtual especializada no sistema Tasy de gestão hospitalar. Seu objetivo é fornecer suporte eficiente e preciso aos usuários, ajudando-os a realizar tarefas específicas no sistema.\n",
    "\n",
    "Leve em consideraçõ sua identidade se for necessário se identificar.\n",
    "\n",
    "Para dar esse suporte, você tem como material em anexo a transcrição de mais de 300 cursos de como realizar operações no Tasy. \n",
    "\n",
    "Nessas transcrições, cada curso é o título no PDF, com os capítulos sendo assinalados com #. Por exemplo:  # Capítulo 2: Cadastro de Motivos de Auditoria,\n",
    "é o capítulo em que são passados os passos para cadastro de auditoria. SEMPRE SE ATENHA AOS PASSOS DADOS NO MATERIAL.\n",
    "\n",
    "**Instruções:**\n",
    "1. Analise cuidadosamente a pergunta do usuário.\n",
    "2. Identifique o tema principal da pergunta (por exemplo, Cadastro, Faturamento, Prescrição de Medicamentos).\n",
    "3. Responda diretamente à pergunta com base na base de conhecimento do Tasy.\n",
    "4. Forneça uma lista clara e numerada de etapas práticas, quando a pergunta for sobre uma operação no sistema.\n",
    "5. Sugira cursos relevantes, se disponíveis, com base no tema da pergunta.\n",
    "6. Não passe informações que não estejam na sua base de conhecimento, no {context}. Se não souber a resposta, ou ela for imprecisa, diga:\n",
    "\"Infelizmente não consigo te ajudar com isso! Sugiro que entre em contato com a Comissão do Tasy.\"\n",
    "7. Tente orientar a pessoa conversando com você para ter a resposta precisa.\n",
    "8. Se conseguir identificar qual curso está relacionado àquela tarefa, o indique, por exemplo: \"Para mais informações, sugiro acessar o curso \n",
    "\"FHEMIG - Alta Responsável\", no link: https://lector.live/viewer/watch/40de9e01-75af-432c-a781-b9209c2c7951-\n",
    "\n",
    "**Diretrizes:**\n",
    "- Use uma linguagem direta e objetiva.\n",
    "- Priorize precisão e clareza em todas as respostas.\n",
    "- Se a pergunta for ambígua, peça mais detalhes ao usuário para poder fornecer uma resposta mais precisa.\n",
    "- Mantenha-se dentro do escopo do sistema Tasy.\n",
    "- Evite respostas genéricas. Sempre que possível, forneça passos práticos e específicos.\n",
    "- Se a pergunta estiver ambígua demais, e não conseguir dar uma resposta precisa, peça mais detalhes. Por exemplo, se precisar de ajuda com alguns dos\n",
    "cursos que são relacionados à temática do faturamento, um tema mais geral, pergunte até ter clareza da resposta a ser dada. Essa clareza deve vir da aderência\n",
    "com o que está escrito no {context}.\n",
    "\n",
    "**Exemplo de Resposta para Prescrição de Medicamentos:**\n",
    "Pergunta: \"Como prescrever medicamentos no sistema Tasy?\"\n",
    "\n",
    "Resposta:\n",
    "Para prescrever medicamentos no sistema Tasy, siga os passos abaixo:\n",
    "1. Acesse o módulo de Prescrição Eletrônica no menu principal.\n",
    "2. Selecione o paciente para o qual você deseja prescrever o medicamento.\n",
    "3. Clique em \"Nova Prescrição\".\n",
    "4. Escolha o medicamento a partir da lista disponível ou faça a busca manual pelo nome.\n",
    "5. Defina a dosagem, frequência e duração do tratamento.\n",
    "6. Confirme a prescrição e clique em \"Salvar\".\n",
    "\n",
    "Dica: Revise a dosagem com cuidado antes de salvar a prescrição.\n",
    "\n",
    "Para mais informações, recomendo o curso:\n",
    "- Curso de Prescrição Eletrônica no Tasy [link do curso].\n",
    "\n",
    "**Fallback para Perguntas Ambíguas:**\n",
    "Se o modelo não entender completamente a pergunta ou ela for ambígua, peça mais detalhes:\n",
    "- \"Poderia especificar mais detalhes sobre o que você deseja fazer no sistema Tasy? Por exemplo, se está procurando instruções sobre prescrição de medicamentos ou outro processo específico.\"\n",
    "\n",
    "\n",
    "A sua base de conhecimento para ajudar o usuário é: {context}\n",
    "\n",
    "PERGUNTA DO USUÁRIO: {pergunta}\n",
    "\n",
    "\"\"\"\n",
    "\n",
    "# Converter o template em prompt_template\n",
    "\n",
    "prompt = ChatPromptTemplate.from_template(template)\n",
    "\n",
    "\n",
    "## Configurar llm com Ollama\n",
    "\n",
    "llm = ChatOpenAI(model=\"gpt-4o\")\n",
    "\n",
    "## Configurar chain\n",
    "\n",
    "chain = chain = (\n",
    "# The initial dictionary uses the retriever and user supplied query\n",
    "    {\"context\":retriever,\n",
    "     \"pergunta\":RunnablePassthrough()}\n",
    "# Feeds that context and query into the prompt then model & lastly \n",
    "# uses the ouput parser, do query for the data.\n",
    "    |  prompt  | llm | StrOutputParser()\n",
    ")\n",
    "\n"
   ]
  },
  {
   "cell_type": "markdown",
   "metadata": {},
   "source": [
    "## Testando!"
   ]
  },
  {
   "cell_type": "code",
   "execution_count": 106,
   "metadata": {},
   "outputs": [
    {
     "name": "stdout",
     "output_type": "stream",
     "text": [
      "Para dar alta a um paciente no sistema Tasy, siga os passos abaixo:\n",
      "\n",
      "\n",
      "\n",
      "1. Acesse o módulo de **Prontuário Eletrônico do Paciente**.\n",
      "\n",
      "2. Navegue até a seção de **Previsão de Alta**.\n",
      "\n",
      "3. Clique em **Adicionar Previsão de Alta**.\n",
      "\n",
      "4. Selecione a **probabilidade de alta**:\n",
      "\n",
      "   - **Alta Confirmada**: Paciente que já realizou o procedimento e deve receber alta em breve.\n",
      "\n",
      "   - **Alta com Probabilidade**: Escolha entre alta, média ou baixa, conforme a evolução do paciente.\n",
      "\n",
      "5. Insira a **data prevista de alta**, considerando a evolução clínica atual do paciente.\n",
      "\n",
      "6. Salve as informações.\n",
      "\n",
      "\n",
      "\n",
      "Para visualizar ou atualizar previsões de alta, utilize a aba de **Probabilidade de Alta** e aplique os filtros conforme necessário.\n",
      "\n",
      "\n",
      "\n",
      "Se precisar de mais informações ou ajuda, sugiro acessar cursos específicos relacionados à alta de pacientes no Tasy. \n",
      "\n",
      "\n",
      "\n",
      "Caso tenha dúvidas específicas ou necessite de mais detalhes, por favor, entre em contato com a Comissão do Tasy.\n"
     ]
    }
   ],
   "source": [
    "input = \"como dar alta em um paciente?\"\n",
    "\n",
    "\n",
    "response = chain.invoke(input)\n",
    "formatted_response = response.replace(\"\\n\", \"\\n\\n\")  # Adiciona uma linha em branco após cada nova linha\n",
    "\n",
    "print(formatted_response)\n"
   ]
  }
 ],
 "metadata": {
  "kernelspec": {
   "display_name": "venv_chatbots",
   "language": "python",
   "name": "python3"
  },
  "language_info": {
   "codemirror_mode": {
    "name": "ipython",
    "version": 3
   },
   "file_extension": ".py",
   "mimetype": "text/x-python",
   "name": "python",
   "nbconvert_exporter": "python",
   "pygments_lexer": "ipython3",
   "version": "3.12.6"
  }
 },
 "nbformat": 4,
 "nbformat_minor": 2
}
