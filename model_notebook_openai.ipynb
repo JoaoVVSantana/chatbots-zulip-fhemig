{
 "cells": [
  {
   "cell_type": "markdown",
   "metadata": {},
   "source": [
    "# Caderno para construção e teste do BOT"
   ]
  },
  {
   "cell_type": "markdown",
   "metadata": {},
   "source": [
    "## Loading"
   ]
  },
  {
   "cell_type": "code",
   "execution_count": 1,
   "metadata": {},
   "outputs": [],
   "source": [
    "## Loader do PDF\n",
    "from langchain_community.document_loaders import PyMuPDFLoader\n",
    "from langchain_community.document_loaders import UnstructuredPDFLoader\n",
    "\n",
    "path = \"data\\\\manual_consolidado.pdf\"\n",
    "\n",
    "## Loaders structured and unstructured\n",
    "\n",
    "#loader_un = UnstructuredPDFLoader(path)\n",
    "loader_structured = PyMuPDFLoader(path)\n",
    "\n",
    "pages_str = loader_structured.load()\n",
    "#pages_str = loader_un.load()"
   ]
  },
  {
   "cell_type": "markdown",
   "metadata": {},
   "source": [
    "## Cleaning"
   ]
  },
  {
   "cell_type": "code",
   "execution_count": 2,
   "metadata": {},
   "outputs": [],
   "source": [
    "from langchain.text_splitter import CharacterTextSplitter\n",
    "\n",
    "## Criando texto splitter\n",
    "text_splitter = CharacterTextSplitter(\n",
    "    separator=\"\\n\",\n",
    "    chunk_size=1000,\n",
    "    chunk_overlap=0\n",
    "    )\n",
    "\n",
    "## Split\n",
    "texts = text_splitter.split_documents(pages_str)\n",
    "\n",
    "\n"
   ]
  },
  {
   "cell_type": "code",
   "execution_count": 3,
   "metadata": {},
   "outputs": [
    {
     "data": {
      "text/plain": [
       "'O sistema gera uma confirmação da solicitação, clicar em “Ok”.\\nO status final do processo fica como “Lote entregue”. Após a finalização, o processo não pode\\nmais ser excluído e o botão “Excluir” fica indisponível.\\nO novo lote pode ser consultado na aba “Lote fornecedor”, com uma nova sequência que\\nfoi criada. O lote que deu origem ao processo de unitarização segue com o status\\n“Enviado para unitarização”.\\nConsultores:\\nBruno Emanoel Calixto Ferreira\\nUllysses Henrique Machado Ribas\\nPágina:\\n75 de 80'"
      ]
     },
     "execution_count": 3,
     "metadata": {},
     "output_type": "execute_result"
    }
   ],
   "source": [
    "### Testanto\n",
    "\n",
    "texts[500].page_content"
   ]
  },
  {
   "cell_type": "code",
   "execution_count": 4,
   "metadata": {},
   "outputs": [],
   "source": [
    "## Função para remover espaço em branco\n",
    "\n",
    "def remove_ws(d):\n",
    "    text = d.page_content.replace(\"\\n\", \"\")\n",
    "    d.page_content = text\n",
    "    return d\n",
    "\n",
    "# Clean texts by removing whitespace from each document\n",
    "texts_cleaned = [remove_ws(d) for d in texts]"
   ]
  },
  {
   "cell_type": "code",
   "execution_count": 5,
   "metadata": {},
   "outputs": [
    {
     "data": {
      "text/plain": [
       "(5458, 5458)"
      ]
     },
     "execution_count": 5,
     "metadata": {},
     "output_type": "execute_result"
    }
   ],
   "source": [
    "texts_cleaned[500].page_content\n",
    "\n",
    "len(texts), len(texts_cleaned)"
   ]
  },
  {
   "cell_type": "code",
   "execution_count": 9,
   "metadata": {},
   "outputs": [],
   "source": [
    "## openai\n",
    "\n",
    "# config.py\n",
    "import os\n",
    "from dotenv import load_dotenv\n",
    "\n",
    "# Carregar as variáveis de ambiente do arquivo .env\n",
    "load_dotenv(dotenv_path=\"env/.env\")\n",
    "\n",
    "# Acessar a chave da OpenAI\n",
    "OPENAI_API_KEY = os.getenv(\"OPENAI_API_KEY\")"
   ]
  },
  {
   "cell_type": "markdown",
   "metadata": {},
   "source": [
    "## Retriever"
   ]
  },
  {
   "cell_type": "code",
   "execution_count": 14,
   "metadata": {},
   "outputs": [],
   "source": [
    "## retriever openai\n",
    "\n",
    "from langchain.embeddings.openai import OpenAIEmbeddings\n",
    "from langchain.vectorstores import FAISS\n",
    "\n",
    "\n",
    "# uses OpenAI embeddings to build a retriever\n",
    "embeddings = OpenAIEmbeddings(api_key=OPENAI_API_KEY)\n",
    "# Creates the document retriever using docs and embeddings\n",
    "db = FAISS.from_documents(texts_cleaned, embeddings)\n",
    "\n",
    "\n",
    "\n",
    "# Asking the retriever to do similarity search based on Query\n",
    "#query = \"Foreign Aid for Lowari Road Tunnel & Access Roads Project (2nd Revised )\"\n",
    "#answer = db.similarity_search(query)\n",
    "\n",
    "# Building the retriever\n",
    "retriever = db.as_retriever(search_kwargs={'k': 3})\n"
   ]
  },
  {
   "cell_type": "code",
   "execution_count": 17,
   "metadata": {},
   "outputs": [],
   "source": [
    "import faiss\n",
    "import pickle\n",
    "\n",
    "# Salvar o índice FAISS\n",
    "faiss.write_index(db.index, 'data/faiss_index.index')\n",
    "\n",
    "# Salvar os documentos associados (metadados)\n",
    "with open('data/faiss_docs.pkl', 'wb') as f:\n",
    "    pickle.dump(db.docstore._dict, f)\n",
    "\n"
   ]
  },
  {
   "cell_type": "code",
   "execution_count": null,
   "metadata": {},
   "outputs": [],
   "source": [
    "import faiss\n",
    "import pickle\n",
    "from langchain.vectorstores import FAISS\n",
    "from langchain.embeddings.openai import OpenAIEmbeddings\n",
    "\n",
    "# Carregar o índice FAISS\n",
    "index = faiss.read_index('data/faiss_index.index')\n",
    "\n",
    "# Carregar os documentos (metadados)\n",
    "with open('data/faiss_docs.pkl', 'rb') as f:\n",
    "    docstore = pickle.load(f)\n",
    "\n",
    "# Recriar o OpenAIEmbeddings\n",
    "embeddings = OpenAIEmbeddings(api_key=OPENAI_API_KEY)\n",
    "\n",
    "# Recriar o FAISS VectorStore usando o índice e os documentos\n",
    "db = FAISS(embedding_function=embeddings, index=index, docstore=docstore)\n",
    "\n",
    "# Recriar o retriever\n",
    "retriever = db.as_retriever(search_kwargs={'k': 3})\n",
    "\n"
   ]
  },
  {
   "cell_type": "markdown",
   "metadata": {},
   "source": [
    "## Chain and chats"
   ]
  },
  {
   "cell_type": "code",
   "execution_count": 23,
   "metadata": {},
   "outputs": [],
   "source": [
    "from langchain_openai import ChatOpenAI\n",
    "from langchain_core.output_parsers import StrOutputParser\n",
    "from langchain_core.prompts import ChatPromptTemplate\n",
    "from langchain_core.runnables import RunnablePassthrough\n",
    "\n",
    "# Função que o bot usará para responder a mensagens diretas\n",
    "\n",
    "template = \"\"\"\n",
    "Você é um assistente especializado no sistema de gestão hospitalar Tasy, utilizado pela Fundação Hospitalar do Estado de Minas Gerais (FHEMIG).\n",
    "Seu objetivo é ajudar os usuários a utilizarem o Tasy de forma eficiente, respondendo a perguntas com base nos manuais e documentos internos disponíveis.\n",
    "\n",
    "### Instruções:\n",
    "\n",
    "1. Sempre forneça uma resposta clara e objetiva com base nas informações extraídas dos manuais.\n",
    "2. Evite raciocínios longos ou desnecessários, forneça respostas diretas e organizadas em passos claros.\n",
    "3. Se necessário, você pode buscar em múltiplos documentos para encontrar a melhor resposta.\n",
    "4. Caso a resposta envolva várias etapas, organize-as de forma numerada.\n",
    "5. Se o usuário pedir mais detalhes, você pode expandir a explicação ou oferecer links para seções específicas dos manuais.\n",
    "\n",
    "### Estrutura de Resposta:\n",
    "1. **Pergunta**: Exiba a pergunta que o usuário fez.\n",
    "2. **Resumo Rápido**: Forneça uma resposta resumida em uma ou duas frases.\n",
    "3. **Passos Detalhados**: Se o problema envolver etapas, forneça uma lista numerada de ações.\n",
    "4. **Referência ao Manual**: Sempre que possível, inclua referências ao manual, como o número da página ou seção relevante.\n",
    "\n",
    "### Exemplo de Pergunta e Resposta:\n",
    "\n",
    "**Pergunta**: Como cadastrar um motivo de interdição de leito no Tasy?\n",
    "\n",
    "**Resposta**:\n",
    "\n",
    "1. **Resumo Rápido**: Para cadastrar um motivo de interdição de leito, acesse \"Cadastros Gerais\" e selecione \"Motivo Interdição leito\".\n",
    "\n",
    "2. **Passos Detalhados**:\n",
    "   - Acesse o menu principal do Tasy.\n",
    "   - Clique em “Cadastros Gerais”.\n",
    "   - Digite ou selecione “Motivo Interdição leito”.\n",
    "   - Preencha os campos obrigatórios com as informações relevantes (como descrição do motivo).\n",
    "   - Salve as informações para concluir o cadastro.\n",
    "\n",
    "3. **Referência ao Manual**: Consulte o manual do Tasy, seção relacionada ao cadastro de motivos, na página 1067 para mais informações detalhadas.\n",
    "\n",
    "{context}\n",
    "\"\"\"\n",
    "\n",
    "# Converter o template em prompt_template\n",
    "\n",
    "prompt = ChatPromptTemplate.from_template(template)\n",
    "\n",
    "\n",
    "## Configurar llm com Ollama\n",
    "\n",
    "llm = ChatOpenAI(model=\"gpt-4o-mini\")\n",
    "\n",
    "## Configurar chain\n",
    "\n",
    "chain = chain = (\n",
    "# The initial dictionary uses the retriever and user supplied query\n",
    "    {\"context\":retriever,\n",
    "     \"query\":RunnablePassthrough()}\n",
    "# Feeds that context and query into the prompt then model & lastly \n",
    "# uses the ouput parser, do query for the data.\n",
    "    |  prompt  | llm | StrOutputParser()\n",
    ")\n",
    "\n"
   ]
  },
  {
   "cell_type": "markdown",
   "metadata": {},
   "source": [
    "## Testando!"
   ]
  },
  {
   "cell_type": "code",
   "execution_count": 28,
   "metadata": {},
   "outputs": [
    {
     "name": "stdout",
     "output_type": "stream",
     "text": [
      "**Pergunta**: Como cadastrar um novo paciente no Tasy?\n",
      "\n",
      "\n",
      "\n",
      "**Resposta**:\n",
      "\n",
      "\n",
      "\n",
      "1. **Resumo Rápido**: Para cadastrar um novo paciente no Tasy, você deve acessar a função de cadastro de pacientes e preencher os dados necessários.\n",
      "\n",
      "\n",
      "\n",
      "2. **Passos Detalhados**:\n",
      "\n",
      "   - Acesse o menu principal do Tasy.\n",
      "\n",
      "   - Clique em “Cadastros” e depois em “Paciente”.\n",
      "\n",
      "   - Selecione a opção “Novo” para iniciar o cadastro.\n",
      "\n",
      "   - Preencha os campos obrigatórios, como nome, data de nascimento, e documentos de identificação.\n",
      "\n",
      "   - Revise as informações inseridas e clique em “Salvar” para concluir o cadastro.\n",
      "\n",
      "\n",
      "\n",
      "3. **Referência ao Manual**: Para mais detalhes, consulte o manual do Tasy na seção de cadastro de pacientes, página 245 para informações adicionais.\n"
     ]
    }
   ],
   "source": [
    "response = chain.invoke(\"Fale-me sobre o módulo para urgência\")\n",
    "formatted_response = response.replace(\"\\n\", \"\\n\\n\")  # Adiciona uma linha em branco após cada nova linha\n",
    "\n",
    "print(formatted_response)\n"
   ]
  }
 ],
 "metadata": {
  "kernelspec": {
   "display_name": "venv_chatbots",
   "language": "python",
   "name": "python3"
  },
  "language_info": {
   "codemirror_mode": {
    "name": "ipython",
    "version": 3
   },
   "file_extension": ".py",
   "mimetype": "text/x-python",
   "name": "python",
   "nbconvert_exporter": "python",
   "pygments_lexer": "ipython3",
   "version": "3.12.6"
  }
 },
 "nbformat": 4,
 "nbformat_minor": 2
}
